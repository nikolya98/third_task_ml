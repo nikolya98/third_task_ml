{
 "cells": [
  {
   "cell_type": "code",
   "execution_count": 1,
   "metadata": {},
   "outputs": [],
   "source": [
    "from time import time, sleep\n",
    "import numpy as np\n",
    "from mlxtend.data import loadlocal_mnist\n",
    "import matplotlib.pyplot as plt\n",
    "from IPython import display"
   ]
  },
  {
   "cell_type": "code",
   "execution_count": 2,
   "metadata": {},
   "outputs": [],
   "source": [
    "%run homework_modules.ipynb\n",
    "%matplotlib inline"
   ]
  },
  {
   "cell_type": "code",
   "execution_count": 3,
   "metadata": {},
   "outputs": [],
   "source": [
    "def sgd_momentum(x, dx, config, state):\n",
    "    \"\"\"\n",
    "        This is a very ugly implementation of sgd with momentum \n",
    "        just to show an example how to store old grad in state.\n",
    "        \n",
    "        config:\n",
    "            - momentum\n",
    "            - learning_rate\n",
    "        state:\n",
    "            - old_grad\n",
    "    \"\"\"\n",
    "    \n",
    "    # x and dx have complex structure, old dx will be stored in a simpler one\n",
    "    state.setdefault('old_grad', {})\n",
    "    \n",
    "    i = 0 \n",
    "    for cur_layer_x, cur_layer_dx in zip(x,dx): \n",
    "        for cur_x, cur_dx in zip(cur_layer_x,cur_layer_dx):\n",
    "            \n",
    "            cur_old_grad = state['old_grad'].setdefault(i, np.zeros_like(cur_dx))\n",
    "            \n",
    "            np.add(config['momentum'] * cur_old_grad, config['learning_rate'] * cur_dx, out = cur_old_grad)\n",
    "            \n",
    "            cur_x -= cur_old_grad\n",
    "            i += 1     "
   ]
  },
  {
   "cell_type": "code",
   "execution_count": 4,
   "metadata": {},
   "outputs": [],
   "source": [
    "# batch generator\n",
    "def get_batches(dataset, batch_size):\n",
    "    X, Y = dataset\n",
    "    n_samples = X.shape[0]\n",
    "        \n",
    "    # Shuffle at the start of epoch\n",
    "    indices = np.arange(n_samples)\n",
    "    np.random.shuffle(indices)\n",
    "    \n",
    "    for start in range(0, n_samples, batch_size):\n",
    "        end = min(start + batch_size, n_samples)\n",
    "        \n",
    "        batch_idx = indices[start:end]\n",
    "    \n",
    "        yield X[batch_idx], Y[batch_idx]"
   ]
  },
  {
   "cell_type": "code",
   "execution_count": 5,
   "metadata": {},
   "outputs": [],
   "source": [
    "# download datasets\n",
    "features_train, target_train = loadlocal_mnist(\n",
    "        images_path='dataset/train-images.idx3-ubyte', \n",
    "        labels_path='dataset/train-labels.idx1-ubyte')\n",
    "features_test, target_test = loadlocal_mnist(\n",
    "        images_path='dataset/t10k-images.idx3-ubyte',\n",
    "        labels_path='dataset/t10k-labels.idx1-ubyte')"
   ]
  },
  {
   "cell_type": "code",
   "execution_count": 6,
   "metadata": {},
   "outputs": [
    {
     "data": {
      "image/png": "[encoded data removed]",
      "text/plain": [
       "<Figure size 1440x1080 with 5 Axes>"
      ]
     },
     "metadata": {
      "needs_background": "light"
     },
     "output_type": "display_data"
    }
   ],
   "source": [
    "# view some data\n",
    "fig, axes = plt.subplots(1, 5, figsize=(20,15))\n",
    "axes = axes.flatten()\n",
    "for img, ax in zip(features_train[:5].reshape((-1,28,28)), axes):\n",
    "    ax.imshow(img, cmap=\"Greys\")\n",
    "plt.tight_layout()\n",
    "plt.show()"
   ]
  },
  {
   "cell_type": "code",
   "execution_count": 7,
   "metadata": {},
   "outputs": [
    {
     "data": {
      "text/plain": [
       "array([5, 0, 4, 1, 9], dtype=uint8)"
      ]
     },
     "execution_count": 7,
     "metadata": {},
     "output_type": "execute_result"
    }
   ],
   "source": [
    "target_train[:5]"
   ]
  },
  {
   "cell_type": "code",
   "execution_count": 8,
   "metadata": {},
   "outputs": [],
   "source": [
    "# normalize features\n",
    "from sklearn.preprocessing import StandardScaler\n",
    "X_scale = StandardScaler()\n",
    "x_train = X_scale.fit_transform(features_train)\n",
    "x_test = X_scale.fit_transform(features_test)"
   ]
  },
  {
   "cell_type": "code",
   "execution_count": 9,
   "metadata": {},
   "outputs": [],
   "source": [
    "# target one-hot-coding\n",
    "y_train = np.zeros((target_train.shape[0], target_train.max() + 1), dtype=float)\n",
    "y_test = np.zeros((target_test.shape[0], target_test.max() + 1), dtype=float)\n",
    "for i in range(target_train.shape[0]):\n",
    "    y_train[i][target_train[i]] = 1.0\n",
    "for i in range(target_test.shape[0]):\n",
    "    y_test[i][target_test[i]] = 1.0"
   ]
  },
  {
   "cell_type": "code",
   "execution_count": 10,
   "metadata": {},
   "outputs": [],
   "source": [
    "# Optimizer params\n",
    "optimizer_config = {'learning_rate' : 1e-1, 'momentum': 0.9}\n",
    "optimizer_state = {}\n",
    "\n",
    "# Looping params\n",
    "n_epoch = 10\n",
    "batch_size = 200"
   ]
  },
  {
   "cell_type": "code",
   "execution_count": 11,
   "metadata": {},
   "outputs": [
    {
     "name": "stdout",
     "output_type": "stream",
     "text": [
      "Linear 784 -> 500\n",
      "Sigmoid\n",
      "Linear 500 -> 50\n",
      "Sigmoid\n",
      "Linear 50 -> 10\n",
      "SoftMax\n",
      "\n"
     ]
    }
   ],
   "source": [
    "# build neural network\n",
    "neural_net = Sequential()\n",
    "neural_net.add(Linear(x_train.shape[1], 500))\n",
    "neural_net.add(Sigmoid())\n",
    "neural_net.add(Linear(500, 50))\n",
    "neural_net.add(Sigmoid())\n",
    "neural_net.add(Linear(50, 10))\n",
    "neural_net.add(SoftMax())\n",
    "\n",
    "criterion = MSECriterion()\n",
    "\n",
    "print(neural_net)"
   ]
  },
  {
   "cell_type": "code",
   "execution_count": 12,
   "metadata": {},
   "outputs": [],
   "source": [
    "train_loss_history = []\n",
    "test_loss_history = []\n",
    "\n",
    "for i in range(n_epoch):\n",
    "    for x_batch, y_batch in get_batches((x_train, y_train), batch_size):\n",
    "        \n",
    "        neural_net.zeroGradParameters()\n",
    "        \n",
    "        # Forward\n",
    "        predictions = neural_net.forward(x_batch)\n",
    "        loss = criterion.forward(predictions, y_batch)\n",
    "    \n",
    "        # Backward\n",
    "        dp = criterion.backward(predictions, y_batch)\n",
    "        neural_net.backward(x_batch, dp)\n",
    "        \n",
    "        # Update weights\n",
    "        sgd_momentum(neural_net.getParameters(), \n",
    "                     neural_net.getGradParameters(), \n",
    "                     optimizer_config,\n",
    "                     optimizer_state)      \n",
    "        \n",
    "        train_loss_history.append(loss)\n",
    "    \n",
    "    # Test\n",
    "    test_pred = neural_net.forward(x_test)\n",
    "    test_loss = criterion.forward(test_pred, y_test)\n",
    "    test_loss_history.append(test_loss)\n",
    "    \n",
    "    # accuracy\n",
    "    hits = 0\n",
    "    for prediction, label in zip(test_pred, target_test):\n",
    "        if np.argmax(prediction) == label:\n",
    "            hits += 1\n",
    "    test_accuracy = hits / len(target_test) * 100"
   ]
  },
  {
   "cell_type": "code",
   "execution_count": 13,
   "metadata": {},
   "outputs": [
    {
     "data": {
      "image/png": "[encoded data removed]",
      "text/plain": [
       "<Figure size 576x432 with 1 Axes>"
      ]
     },
     "metadata": {
      "needs_background": "light"
     },
     "output_type": "display_data"
    },
    {
     "name": "stdout",
     "output_type": "stream",
     "text": [
      "Current train loss: 0.056599\n",
      "Current test loss: 0.100345\n",
      "Current test accuracy: 93.460000\n"
     ]
    }
   ],
   "source": [
    "\n",
    "# Visualize\n",
    "display.clear_output(wait=True)\n",
    "plt.figure(figsize=(8, 6))\n",
    "\n",
    "plt.title(\"Training loss\")\n",
    "plt.xlabel(\"#epoch\")\n",
    "plt.ylabel(\"loss\")\n",
    "epoch_ticks = np.arange(0, len(train_loss_history), dtype=float) / (y_train.shape[0] // batch_size)\n",
    "plt.plot(epoch_ticks, train_loss_history, 'b')\n",
    "plt.plot(test_loss_history, 'r')\n",
    "\n",
    "plt.show()\n",
    "\n",
    "print('Current train loss: %f' % loss)\n",
    "print('Current test loss: %f' % test_loss)\n",
    "print('Current test accuracy: %f' % test_accuracy)"
   ]
  },
  {
   "cell_type": "code",
   "execution_count": 14,
   "metadata": {},
   "outputs": [
    {
     "name": "stdout",
     "output_type": "stream",
     "text": [
      "Linear 784 -> 500\n",
      "Sigmoid\n",
      "Dropout\n",
      "Linear 500 -> 50\n",
      "Sigmoid\n",
      "Dropout\n",
      "Linear 50 -> 10\n",
      "SoftMax\n",
      "\n"
     ]
    }
   ],
   "source": [
    "neural_net_1 = Sequential()\n",
    "neural_net_1.add(Linear(x_train.shape[1], 500))\n",
    "neural_net_1.add(Sigmoid())\n",
    "neural_net_1.add(Dropout(0.8))\n",
    "neural_net_1.add(Linear(500, 50))\n",
    "neural_net_1.add(Sigmoid())\n",
    "neural_net_1.add(Dropout(0.8))\n",
    "neural_net_1.add(Linear(50, 10))\n",
    "neural_net_1.add(SoftMax())\n",
    "\n",
    "criterion = MSECriterion()\n",
    "\n",
    "print(neural_net_1)"
   ]
  },
  {
   "cell_type": "code",
   "execution_count": 15,
   "metadata": {},
   "outputs": [],
   "source": [
    "train_loss_history = []\n",
    "test_loss_history = []\n",
    "\n",
    "for i in range(n_epoch):\n",
    "    for x_batch, y_batch in get_batches((x_train, y_train), batch_size):\n",
    "        \n",
    "        neural_net_1.zeroGradParameters()\n",
    "        \n",
    "        # Forward\n",
    "        predictions = neural_net_1.forward(x_batch)\n",
    "        loss = criterion.forward(predictions, y_batch)\n",
    "    \n",
    "        # Backward\n",
    "        dp = criterion.backward(predictions, y_batch)\n",
    "        neural_net_1.backward(x_batch, dp)\n",
    "        \n",
    "        # Update weights\n",
    "        sgd_momentum(neural_net_1.getParameters(), \n",
    "                     neural_net_1.getGradParameters(), \n",
    "                     optimizer_config,\n",
    "                     optimizer_state)      \n",
    "        \n",
    "        train_loss_history.append(loss)\n",
    "    \n",
    "    # Test\n",
    "    test_pred = neural_net_1.forward(x_test)\n",
    "    test_loss = criterion.forward(test_pred, y_test)\n",
    "    test_loss_history.append(test_loss)\n",
    "    \n",
    "    # accuracy\n",
    "    hits = 0\n",
    "    for prediction, label in zip(test_pred, target_test):\n",
    "        if np.argmax(prediction) == label:\n",
    "            hits += 1\n",
    "    test_accuracy = hits / len(target_test) * 100\n"
   ]
  },
  {
   "cell_type": "code",
   "execution_count": 16,
   "metadata": {},
   "outputs": [
    {
     "data": {
      "image/png": "[encoded data removed]",
      "text/plain": [
       "<Figure size 576x432 with 1 Axes>"
      ]
     },
     "metadata": {
      "needs_background": "light"
     },
     "output_type": "display_data"
    },
    {
     "name": "stdout",
     "output_type": "stream",
     "text": [
      "Current train loss: 0.176443\n",
      "Current test loss: 0.109618\n",
      "Current test accuracy: 92.920000\n"
     ]
    }
   ],
   "source": [
    "\n",
    "# Visualize\n",
    "display.clear_output(wait=True)\n",
    "plt.figure(figsize=(8, 6))\n",
    "\n",
    "plt.title(\"Training loss\")\n",
    "plt.xlabel(\"#epoch\")\n",
    "plt.ylabel(\"loss\")\n",
    "epoch_ticks = np.arange(0, len(train_loss_history), dtype=float) / (y_train.shape[0] // batch_size)\n",
    "plt.plot(epoch_ticks, train_loss_history, 'b')\n",
    "plt.plot(test_loss_history, 'r')\n",
    "\n",
    "plt.show()\n",
    "\n",
    "print('Current train loss: %f' % loss)\n",
    "print('Current test loss: %f' % test_loss)\n",
    "print('Current test accuracy: %f' % test_accuracy)"
   ]
  },
  {
   "cell_type": "code",
   "execution_count": 17,
   "metadata": {},
   "outputs": [
    {
     "data": {
      "text/plain": [
       "7"
      ]
     },
     "execution_count": 17,
     "metadata": {},
     "output_type": "execute_result"
    }
   ],
   "source": [
    "np.argmax(test_pred[0])"
   ]
  },
  {
   "cell_type": "code",
   "execution_count": 18,
   "metadata": {},
   "outputs": [
    {
     "data": {
      "text/plain": [
       "7"
      ]
     },
     "execution_count": 18,
     "metadata": {},
     "output_type": "execute_result"
    }
   ],
   "source": [
    "target_test[0]"
   ]
  },
  {
   "cell_type": "code",
   "execution_count": null,
   "metadata": {},
   "outputs": [],
   "source": []
  }
 ],
 "metadata": {
  "kernelspec": {
   "display_name": "Python 3",
   "language": "python",
   "name": "python3"
  },
  "language_info": {
   "codemirror_mode": {
    "name": "ipython",
    "version": 3
   },
   "file_extension": ".py",
   "mimetype": "text/x-python",
   "name": "python",
   "nbconvert_exporter": "python",
   "pygments_lexer": "ipython3",
   "version": "3.7.3"
  }
 },
 "nbformat": 4,
 "nbformat_minor": 1
}
